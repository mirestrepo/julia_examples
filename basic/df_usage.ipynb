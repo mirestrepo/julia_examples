{
  "cells": [
    {
      "cell_type": "markdown",
      "source": [
        "# Manipulating DataFrames"
      ],
      "metadata": {}
    },
    {
      "cell_type": "code",
      "source": [
        "using DataFrames"
      ],
      "outputs": [],
      "execution_count": 55,
      "metadata": {
        "collapsed": false,
        "outputHidden": false,
        "inputHidden": false
      }
    },
    {
      "cell_type": "markdown",
      "source": [
        "## Getting Started"
      ],
      "metadata": {}
    },
    {
      "cell_type": "code",
      "source": [],
      "outputs": [],
      "execution_count": null,
      "metadata": {
        "collapsed": false,
        "outputHidden": false,
        "inputHidden": false
      }
    },
    {
      "cell_type": "markdown",
      "source": [],
      "metadata": {}
    },
    {
      "cell_type": "code",
      "source": [
        "using RDatasets\n",
        "using GZip\n"
      ],
      "outputs": [
        {
          "output_type": "error",
          "ename": "LoadError",
          "evalue": "\u001b[91mArgumentError: Module RDatasets not found in current path.\nRun `Pkg.add(\"RDatasets\")` to install the RDatasets package.\u001b[39m",
          "traceback": [
            "\u001b[91mArgumentError: Module RDatasets not found in current path.\nRun `Pkg.add(\"RDatasets\")` to install the RDatasets package.\u001b[39m",
            "",
            "Stacktrace:",
            " [1] \u001b[1m_require\u001b[22m\u001b[22m\u001b[1m(\u001b[22m\u001b[22m::Symbol\u001b[1m)\u001b[22m\u001b[22m at \u001b[1m./loading.jl:435\u001b[22m\u001b[22m",
            " [2] \u001b[1mrequire\u001b[22m\u001b[22m\u001b[1m(\u001b[22m\u001b[22m::Symbol\u001b[1m)\u001b[22m\u001b[22m at \u001b[1m./loading.jl:405\u001b[22m\u001b[22m",
            " [3] \u001b[1minclude_string\u001b[22m\u001b[22m\u001b[1m(\u001b[22m\u001b[22m::String, ::String\u001b[1m)\u001b[22m\u001b[22m at \u001b[1m./loading.jl:522\u001b[22m\u001b[22m"
          ]
        }
      ],
      "execution_count": 3,
      "metadata": {
        "collapsed": true
      }
    },
    {
      "cell_type": "code",
      "source": [
        "# Import Boston housing data\n",
        "df = CSV.read(\n",
        "    GZip.gzopen(joinpath(Pkg.dir(\"RDatasets\"),\"data\",\"MASS\",\"Boston.csv.gz\")),\n",
        "    DataFrames.DataFrame,\n",
        "    );"
      ],
      "outputs": [],
      "execution_count": 5,
      "metadata": {}
    },
    {
      "cell_type": "code",
      "source": [
        "# Explore header\n",
        "head(df)"
      ],
      "outputs": [
        {
          "output_type": "execute_result",
          "execution_count": 6,
          "data": {
            "text/html": [
              "<table class=\"data-frame\"><thead><tr><th></th><th>Crim</th><th>Zn</th><th>Indus</th><th>Chas</th><th>NOx</th><th>Rm</th><th>Age</th><th>Dis</th><th>Rad</th><th>Tax</th><th>PTRatio</th><th>Black</th><th>LStat</th><th>MedV</th></tr></thead><tbody><tr><th>1</th><td>0.00632</td><td>18.0</td><td>2.31</td><td>0</td><td>0.538</td><td>6.575</td><td>65.2</td><td>4.09</td><td>1</td><td>296</td><td>15.3</td><td>396.9</td><td>4.98</td><td>24.0</td></tr><tr><th>2</th><td>0.02731</td><td>0.0</td><td>7.07</td><td>0</td><td>0.469</td><td>6.421</td><td>78.9</td><td>4.9671</td><td>2</td><td>242</td><td>17.8</td><td>396.9</td><td>9.14</td><td>21.6</td></tr><tr><th>3</th><td>0.02729</td><td>0.0</td><td>7.07</td><td>0</td><td>0.469</td><td>7.185</td><td>61.1</td><td>4.9671</td><td>2</td><td>242</td><td>17.8</td><td>392.83</td><td>4.03</td><td>34.7</td></tr><tr><th>4</th><td>0.03237</td><td>0.0</td><td>2.18</td><td>0</td><td>0.458</td><td>6.998</td><td>45.8</td><td>6.0622</td><td>3</td><td>222</td><td>18.7</td><td>394.63</td><td>2.94</td><td>33.4</td></tr><tr><th>5</th><td>0.06905</td><td>0.0</td><td>2.18</td><td>0</td><td>0.458</td><td>7.147</td><td>54.2</td><td>6.0622</td><td>3</td><td>222</td><td>18.7</td><td>396.9</td><td>5.33</td><td>36.2</td></tr><tr><th>6</th><td>0.02985</td><td>0.0</td><td>2.18</td><td>0</td><td>0.458</td><td>6.43</td><td>58.7</td><td>6.0622</td><td>3</td><td>222</td><td>18.7</td><td>394.12</td><td>5.21</td><td>28.7</td></tr></tbody></table>"
            ],
            "text/plain": [
              "6×14 DataFrames.DataFrame. Omitted printing of 5 columns\n",
              "│ Row │ Crim    │ Zn   │ Indus │ Chas │ NOx   │ Rm    │ Age  │ Dis    │ Rad │\n",
              "├─────┼─────────┼──────┼───────┼──────┼───────┼───────┼──────┼────────┼─────┤\n",
              "│ 1   │ 0.00632 │ 18.0 │ 2.31  │ 0    │ 0.538 │ 6.575 │ 65.2 │ 4.09   │ 1   │\n",
              "│ 2   │ 0.02731 │ 0.0  │ 7.07  │ 0    │ 0.469 │ 6.421 │ 78.9 │ 4.9671 │ 2   │\n",
              "│ 3   │ 0.02729 │ 0.0  │ 7.07  │ 0    │ 0.469 │ 7.185 │ 61.1 │ 4.9671 │ 2   │\n",
              "│ 4   │ 0.03237 │ 0.0  │ 2.18  │ 0    │ 0.458 │ 6.998 │ 45.8 │ 6.0622 │ 3   │\n",
              "│ 5   │ 0.06905 │ 0.0  │ 2.18  │ 0    │ 0.458 │ 7.147 │ 54.2 │ 6.0622 │ 3   │\n",
              "│ 6   │ 0.02985 │ 0.0  │ 2.18  │ 0    │ 0.458 │ 6.43  │ 58.7 │ 6.0622 │ 3   │"
            ]
          },
          "metadata": {}
        }
      ],
      "execution_count": 6,
      "metadata": {}
    },
    {
      "cell_type": "code",
      "source": [
        "# Column names\n",
        "names(df)"
      ],
      "outputs": [
        {
          "output_type": "execute_result",
          "execution_count": 7,
          "data": {
            "text/plain": [
              "14-element Array{Symbol,1}:\n",
              " :Crim   \n",
              " :Zn     \n",
              " :Indus  \n",
              " :Chas   \n",
              " :NOx    \n",
              " :Rm     \n",
              " :Age    \n",
              " :Dis    \n",
              " :Rad    \n",
              " :Tax    \n",
              " :PTRatio\n",
              " :Black  \n",
              " :LStat  \n",
              " :MedV   "
            ]
          },
          "metadata": {}
        }
      ],
      "execution_count": 7,
      "metadata": {}
    },
    {
      "cell_type": "markdown",
      "source": [
        "# Creating DataFrames"
      ],
      "metadata": {}
    },
    {
      "cell_type": "code",
      "source": [
        "#Empty without types nor labels\n",
        "df = DataFrame()"
      ],
      "outputs": [
        {
          "output_type": "execute_result",
          "execution_count": 41,
          "data": {
            "text/plain": [
              "0×0 DataFrames.DataFrame\n"
            ],
            "text/html": [
              "<table class=\"data-frame\"><thead><tr><th></th></tr></thead><tbody></tbody></table>"
            ]
          },
          "metadata": {}
        }
      ],
      "execution_count": 41,
      "metadata": {
        "collapsed": true
      }
    },
    {
      "cell_type": "code",
      "source": [
        "#Empty, but labeled and type column\n",
        "df1 = DataFrame(A = Vector{Int}())"
      ],
      "outputs": [
        {
          "output_type": "execute_result",
          "execution_count": 42,
          "data": {
            "text/plain": [
              "0×1 DataFrames.DataFrame\n"
            ],
            "text/html": [
              "<table class=\"data-frame\"><thead><tr><th></th><th>A</th></tr></thead><tbody></tbody></table>"
            ]
          },
          "metadata": {}
        }
      ],
      "execution_count": 42,
      "metadata": {
        "collapsed": false,
        "outputHidden": false,
        "inputHidden": false
      }
    },
    {
      "cell_type": "code",
      "source": [
        "\n",
        "#with some elements\n",
        "df2 = DataFrame(A = rand(1:10, 10))\n",
        "df3 = DataFrame(B = rand(1:10, 10), C = rand(1:10, 10))\n"
      ],
      "outputs": [
        {
          "output_type": "execute_result",
          "execution_count": 46,
          "data": {
            "text/plain": [
              "10×2 DataFrames.DataFrame\n",
              "│ Row │ B │ C  │\n",
              "├─────┼───┼────┤\n",
              "│ 1   │ 7 │ 3  │\n",
              "│ 2   │ 7 │ 8  │\n",
              "│ 3   │ 3 │ 10 │\n",
              "│ 4   │ 8 │ 7  │\n",
              "│ 5   │ 5 │ 5  │\n",
              "│ 6   │ 9 │ 6  │\n",
              "│ 7   │ 1 │ 10 │\n",
              "│ 8   │ 9 │ 1  │\n",
              "│ 9   │ 5 │ 1  │\n",
              "│ 10  │ 8 │ 5  │"
            ],
            "text/html": [
              "<table class=\"data-frame\"><thead><tr><th></th><th>B</th><th>C</th></tr></thead><tbody><tr><th>1</th><td>7</td><td>3</td></tr><tr><th>2</th><td>7</td><td>8</td></tr><tr><th>3</th><td>3</td><td>10</td></tr><tr><th>4</th><td>8</td><td>7</td></tr><tr><th>5</th><td>5</td><td>5</td></tr><tr><th>6</th><td>9</td><td>6</td></tr><tr><th>7</th><td>1</td><td>10</td></tr><tr><th>8</th><td>9</td><td>1</td></tr><tr><th>9</th><td>5</td><td>1</td></tr><tr><th>10</th><td>8</td><td>5</td></tr></tbody></table>"
            ]
          },
          "metadata": {}
        }
      ],
      "execution_count": 46,
      "metadata": {
        "collapsed": false,
        "outputHidden": false,
        "inputHidden": false
      }
    },
    {
      "cell_type": "markdown",
      "source": [
        "# Appending"
      ],
      "metadata": {}
    },
    {
      "cell_type": "code",
      "source": [
        "# vcat\n",
        "df1_2 = [df1; df2]\n",
        "df1_2_vcat = vcat(df1, df2)"
      ],
      "outputs": [
        {
          "output_type": "execute_result",
          "execution_count": 52,
          "data": {
            "text/plain": [
              "10×1 DataFrames.DataFrame\n",
              "│ Row │ A │\n",
              "├─────┼───┤\n",
              "│ 1   │ 9 │\n",
              "│ 2   │ 9 │\n",
              "│ 3   │ 1 │\n",
              "│ 4   │ 9 │\n",
              "│ 5   │ 6 │\n",
              "│ 6   │ 8 │\n",
              "│ 7   │ 6 │\n",
              "│ 8   │ 3 │\n",
              "│ 9   │ 4 │\n",
              "│ 10  │ 4 │"
            ],
            "text/html": [
              "<table class=\"data-frame\"><thead><tr><th></th><th>A</th></tr></thead><tbody><tr><th>1</th><td>9</td></tr><tr><th>2</th><td>9</td></tr><tr><th>3</th><td>1</td></tr><tr><th>4</th><td>9</td></tr><tr><th>5</th><td>6</td></tr><tr><th>6</th><td>8</td></tr><tr><th>7</th><td>6</td></tr><tr><th>8</th><td>3</td></tr><tr><th>9</th><td>4</td></tr><tr><th>10</th><td>4</td></tr></tbody></table>"
            ]
          },
          "metadata": {}
        }
      ],
      "execution_count": 52,
      "metadata": {
        "collapsed": false,
        "outputHidden": false,
        "inputHidden": false
      }
    },
    {
      "cell_type": "code",
      "source": [
        "# hcat\n",
        "df2_3 = [df2 df3]\n",
        "df2_3_hcat = hcat(df2, df3)"
      ],
      "outputs": [
        {
          "output_type": "execute_result",
          "execution_count": 54,
          "data": {
            "text/plain": [
              "10×3 DataFrames.DataFrame\n",
              "│ Row │ A │ B │ C  │\n",
              "├─────┼───┼───┼────┤\n",
              "│ 1   │ 9 │ 7 │ 3  │\n",
              "│ 2   │ 9 │ 7 │ 8  │\n",
              "│ 3   │ 1 │ 3 │ 10 │\n",
              "│ 4   │ 9 │ 8 │ 7  │\n",
              "│ 5   │ 6 │ 5 │ 5  │\n",
              "│ 6   │ 8 │ 9 │ 6  │\n",
              "│ 7   │ 6 │ 1 │ 10 │\n",
              "│ 8   │ 3 │ 9 │ 1  │\n",
              "│ 9   │ 4 │ 5 │ 1  │\n",
              "│ 10  │ 4 │ 8 │ 5  │"
            ],
            "text/html": [
              "<table class=\"data-frame\"><thead><tr><th></th><th>A</th><th>B</th><th>C</th></tr></thead><tbody><tr><th>1</th><td>9</td><td>7</td><td>3</td></tr><tr><th>2</th><td>9</td><td>7</td><td>8</td></tr><tr><th>3</th><td>1</td><td>3</td><td>10</td></tr><tr><th>4</th><td>9</td><td>8</td><td>7</td></tr><tr><th>5</th><td>6</td><td>5</td><td>5</td></tr><tr><th>6</th><td>8</td><td>9</td><td>6</td></tr><tr><th>7</th><td>6</td><td>1</td><td>10</td></tr><tr><th>8</th><td>3</td><td>9</td><td>1</td></tr><tr><th>9</th><td>4</td><td>5</td><td>1</td></tr><tr><th>10</th><td>4</td><td>8</td><td>5</td></tr></tbody></table>"
            ]
          },
          "metadata": {}
        }
      ],
      "execution_count": 54,
      "metadata": {
        "collapsed": false,
        "outputHidden": false,
        "inputHidden": false
      }
    },
    {
      "cell_type": "code",
      "source": [],
      "outputs": [
        {
          "output_type": "execute_result",
          "execution_count": 51,
          "data": {
            "text/plain": [
              "10×3 DataFrames.DataFrame\n",
              "│ Row │ A │ B │ C  │\n",
              "├─────┼───┼───┼────┤\n",
              "│ 1   │ 9 │ 7 │ 3  │\n",
              "│ 2   │ 9 │ 7 │ 8  │\n",
              "│ 3   │ 1 │ 3 │ 10 │\n",
              "│ 4   │ 9 │ 8 │ 7  │\n",
              "│ 5   │ 6 │ 5 │ 5  │\n",
              "│ 6   │ 8 │ 9 │ 6  │\n",
              "│ 7   │ 6 │ 1 │ 10 │\n",
              "│ 8   │ 3 │ 9 │ 1  │\n",
              "│ 9   │ 4 │ 5 │ 1  │\n",
              "│ 10  │ 4 │ 8 │ 5  │"
            ],
            "text/html": [
              "<table class=\"data-frame\"><thead><tr><th></th><th>A</th><th>B</th><th>C</th></tr></thead><tbody><tr><th>1</th><td>9</td><td>7</td><td>3</td></tr><tr><th>2</th><td>9</td><td>7</td><td>8</td></tr><tr><th>3</th><td>1</td><td>3</td><td>10</td></tr><tr><th>4</th><td>9</td><td>8</td><td>7</td></tr><tr><th>5</th><td>6</td><td>5</td><td>5</td></tr><tr><th>6</th><td>8</td><td>9</td><td>6</td></tr><tr><th>7</th><td>6</td><td>1</td><td>10</td></tr><tr><th>8</th><td>3</td><td>9</td><td>1</td></tr><tr><th>9</th><td>4</td><td>5</td><td>1</td></tr><tr><th>10</th><td>4</td><td>8</td><td>5</td></tr></tbody></table>"
            ]
          },
          "metadata": {}
        }
      ],
      "execution_count": 51,
      "metadata": {
        "collapsed": false,
        "outputHidden": false,
        "inputHidden": false
      }
    },
    {
      "cell_type": "code",
      "source": [
        "rand(1:10, 10)"
      ],
      "outputs": [
        {
          "output_type": "execute_result",
          "execution_count": 26,
          "data": {
            "text/plain": [
              "10-element Array{Int64,1}:\n",
              " 10\n",
              "  5\n",
              "  2\n",
              "  4\n",
              "  4\n",
              "  5\n",
              "  5\n",
              " 10\n",
              "  1\n",
              "  2"
            ]
          },
          "metadata": {}
        }
      ],
      "execution_count": 26,
      "metadata": {
        "collapsed": false,
        "outputHidden": false,
        "inputHidden": false
      }
    },
    {
      "cell_type": "code",
      "source": [
        "?rand"
      ],
      "outputs": [
        {
          "output_type": "stream",
          "name": "stdout",
          "text": [
            "search: \u001b[1mr\u001b[22m\u001b[1ma\u001b[22m\u001b[1mn\u001b[22m\u001b[1md\u001b[22m \u001b[1mr\u001b[22m\u001b[1ma\u001b[22m\u001b[1mn\u001b[22m\u001b[1md\u001b[22mn \u001b[1mr\u001b[22m\u001b[1ma\u001b[22m\u001b[1mn\u001b[22m\u001b[1md\u001b[22m! \u001b[1mr\u001b[22m\u001b[1ma\u001b[22m\u001b[1mn\u001b[22m\u001b[1md\u001b[22mn! \u001b[1mr\u001b[22m\u001b[1ma\u001b[22m\u001b[1mn\u001b[22m\u001b[1md\u001b[22mexp \u001b[1mr\u001b[22m\u001b[1ma\u001b[22m\u001b[1mn\u001b[22m\u001b[1md\u001b[22mperm \u001b[1mr\u001b[22m\u001b[1ma\u001b[22m\u001b[1mn\u001b[22m\u001b[1md\u001b[22mjump \u001b[1mr\u001b[22m\u001b[1ma\u001b[22m\u001b[1mn\u001b[22m\u001b[1md\u001b[22mexp! \u001b[1mr\u001b[22m\u001b[1ma\u001b[22m\u001b[1mn\u001b[22m\u001b[1md\u001b[22mcycle\n",
            "\n"
          ]
        },
        {
          "output_type": "execute_result",
          "execution_count": 18,
          "data": {
            "text/plain": [
              "```\n",
              "rand([rng=GLOBAL_RNG], [S], [dims...])\n",
              "```\n",
              "\n",
              "Pick a random element or array of random elements from the set of values specified by `S`; `S` can be\n",
              "\n",
              "  * an indexable collection (for example `1:n` or `['x','y','z']`), or\n",
              "  * a type: the set of values to pick from is then equivalent to `typemin(S):typemax(S)` for integers (this is not applicable to [`BigInt`](@ref)), and to $[0, 1)$ for floating point numbers;\n",
              "\n",
              "`S` defaults to [`Float64`](@ref).\n"
            ],
            "text/markdown": [
              "```\n",
              "rand([rng=GLOBAL_RNG], [S], [dims...])\n",
              "```\n",
              "\n",
              "Pick a random element or array of random elements from the set of values specified by `S`; `S` can be\n",
              "\n",
              "  * an indexable collection (for example `1:n` or `['x','y','z']`), or\n",
              "  * a type: the set of values to pick from is then equivalent to `typemin(S):typemax(S)` for integers (this is not applicable to [`BigInt`](@ref)), and to $[0, 1)$ for floating point numbers;\n",
              "\n",
              "`S` defaults to [`Float64`](@ref).\n"
            ]
          },
          "metadata": {}
        }
      ],
      "execution_count": 18,
      "metadata": {
        "collapsed": false,
        "outputHidden": false,
        "inputHidden": false
      }
    },
    {
      "cell_type": "code",
      "source": [],
      "outputs": [],
      "execution_count": null,
      "metadata": {
        "collapsed": false,
        "outputHidden": false,
        "inputHidden": false
      }
    }
  ],
  "metadata": {
    "kernelspec": {
      "name": "julia-0.6",
      "language": "julia",
      "display_name": "Julia 0.6.2"
    },
    "language_info": {
      "file_extension": ".jl",
      "name": "julia",
      "mimetype": "application/julia",
      "version": "0.6.2"
    },
    "kernel_info": {
      "name": "julia-0.6"
    }
  },
  "nbformat": 4,
  "nbformat_minor": 2
}