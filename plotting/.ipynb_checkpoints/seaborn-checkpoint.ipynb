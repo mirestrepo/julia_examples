{
 "cells": [
  {
   "cell_type": "markdown",
   "metadata": {
    "slideshow": {
     "slide_type": "slide"
    }
   },
   "source": [
    "## Seaborn\n",
    "\n",
    "[Searborn](http://seaborn.pydata.org/index.html) is a Python library for Statistical Data Visualization. It provides a high-level interface and many \"out-of-the-box\" plotting functionality for easy exploration. [Seaborn.jl](https://github.com/JuliaPy/Seaborn.jl) is a Julia wraper of the python library."
   ]
  },
  {
   "cell_type": "markdown",
   "metadata": {
    "slideshow": {
     "slide_type": "slide"
    }
   },
   "source": [
    "## Imports"
   ]
  },
  {
   "cell_type": "code",
   "execution_count": null,
   "metadata": {
    "slideshow": {
     "slide_type": "-"
    }
   },
   "outputs": [
    {
     "name": "stderr",
     "output_type": "stream",
     "text": [
      "\u001b[1m\u001b[36mINFO: \u001b[39m\u001b[22m\u001b[36mPrecompiling module Seaborn.\n",
      "\u001b[39m"
     ]
    }
   ],
   "source": [
    "using Seaborn\n",
    "using Pandas\n",
    "using PyPlot\n",
    "using PyCall\n",
    "\n",
    "@pyimport numpy"
   ]
  },
  {
   "cell_type": "markdown",
   "metadata": {
    "slideshow": {
     "slide_type": "slide"
    }
   },
   "source": [
    "### Visualizing linear relationships:\n",
    "\n",
    "Seaborn is not a regression library itself. For quantitative measures related to the fit of regression models, you should use GLM.jl. However, Seaborn provides regression plots in seaborn that helps emphasizing patterns in a dataset during exploratory data analyses. \n",
    "\n",
    "#### Functions for linear-regreassion models\n",
    "\n",
    "* `regplot`: In the simplest invocation, draw a scatterplot of two variables, x and y, and then fit the regression model y ~ x and plot the resulting regression line and a 95% confidence interval for that regression. Inputs x,y can be in a variaerty of formats.\n",
    "\n",
    "\n",
    "* `lmplot`: Uses regplot.\n",
    "Inputs must be Pandas.DataFrame format.\n",
    "\n",
    "\n",
    "* `jointplot`: Use regplot together with dictribution plots to provide and alternative visualization of the relationship\n",
    "\n",
    "[More info](http://seaborn.pydata.org/tutorial/regression.html#regression-tutorial)\n"
   ]
  },
  {
   "cell_type": "code",
   "execution_count": null,
   "metadata": {
    "slideshow": {
     "slide_type": "slide"
    }
   },
   "outputs": [],
   "source": [
    "#for some strange reason loading doesn't work the first time\n",
    "tips = nothing\n",
    "try\n",
    "    tips = load_dataset(\"tips\");\n",
    "catch\n",
    "    tips = load_dataset(\"tips\");\n",
    "end\n",
    "\n",
    "\n",
    "head(tips)"
   ]
  },
  {
   "cell_type": "code",
   "execution_count": null,
   "metadata": {
    "slideshow": {
     "slide_type": "slide"
    }
   },
   "outputs": [],
   "source": [
    "g = regplot(x=\"total_bill\", y=\"tip\", data=tips)\n",
    "title(\"Total Bill vs. Tip\") #current active figure PyPlot\n",
    "# alternatively\n",
    "# g[:figure][:axes][1][:set_title](\"Total Bill vs. Tip\")\n"
   ]
  },
  {
   "cell_type": "markdown",
   "metadata": {
    "slideshow": {
     "slide_type": "slide"
    }
   },
   "source": [
    "### One discrete variable:\n",
    "\n",
    "* Simple scatter plot is not optimal\n",
    "* Add random noise \"jitter\" to the points (only on plot) to see their distribution more clearely\n",
    "* Collapse the observations to the mean along with a confidence interval\n",
    "\n"
   ]
  },
  {
   "cell_type": "code",
   "execution_count": null,
   "metadata": {
    "slideshow": {
     "slide_type": "-"
    }
   },
   "outputs": [],
   "source": [
    "f, (ax1, ax2,ax3)  = subplots(1, 3, sharey=true)\n",
    "regplot(x=\"size\", y=\"tip\", data=tips, ax=ax1);\n",
    "regplot(x=\"size\", y=\"tip\", data=tips, x_jitter=.05, ax=ax2);\n",
    "regplot(x=\"size\", y=\"tip\", data=tips, x_estimator=numpy.mean, ax=ax3);"
   ]
  },
  {
   "cell_type": "markdown",
   "metadata": {
    "slideshow": {
     "slide_type": "slide"
    }
   },
   "source": [
    "### Higher order models"
   ]
  },
  {
   "cell_type": "code",
   "execution_count": null,
   "metadata": {
    "slideshow": {
     "slide_type": "-"
    }
   },
   "outputs": [],
   "source": [
    "anscombe = load_dataset(\"anscombe\");\n",
    "head(anscombe)\n",
    "\n",
    "lmplot(x=\"x\", y=\"y\", data=query(anscombe, \"dataset == 'II'\"),\n",
    "           ci=nothing, scatter_kws=Dict(\"s\"=> 80));"
   ]
  },
  {
   "cell_type": "code",
   "execution_count": null,
   "metadata": {
    "slideshow": {
     "slide_type": "slide"
    }
   },
   "outputs": [],
   "source": [
    "lmplot(x=\"x\", y=\"y\", data=query(anscombe, \"dataset == 'II'\"),\n",
    "           ci=nothing, scatter_kws=Dict(\"s\"=> 80), order =2);"
   ]
  },
  {
   "cell_type": "markdown",
   "metadata": {
    "slideshow": {
     "slide_type": "slide"
    }
   },
   "source": [
    "### Joint Plot with marginal distributions"
   ]
  },
  {
   "cell_type": "code",
   "execution_count": null,
   "metadata": {
    "slideshow": {
     "slide_type": "-"
    }
   },
   "outputs": [],
   "source": [
    "jointplot(x=\"total_bill\", y=\"tip\", data=tips, kind=\"reg\")\n",
    "savefig(\"./test.svg\")"
   ]
  },
  {
   "cell_type": "markdown",
   "metadata": {
    "slideshow": {
     "slide_type": "slide"
    }
   },
   "source": [
    "## Conditioning on another variable\n",
    "\n",
    "* Must use `lmplot` instead of `regplot`"
   ]
  },
  {
   "cell_type": "code",
   "execution_count": null,
   "metadata": {},
   "outputs": [],
   "source": [
    "lmplot(x=\"total_bill\", y=\"tip\", hue=\"smoker\", data=tips);"
   ]
  },
  {
   "cell_type": "code",
   "execution_count": null,
   "metadata": {
    "slideshow": {
     "slide_type": "slide"
    }
   },
   "outputs": [],
   "source": [
    "lmplot(x=\"total_bill\", y=\"tip\", col=\"day\", data=tips,\n",
    "           aspect=.5);"
   ]
  },
  {
   "cell_type": "markdown",
   "metadata": {},
   "source": [
    "### If Seaborn is working, let's keep exploring:\n",
    "\n",
    "* [Distributions](http://seaborn.pydata.org/tutorial/distributions.html#distribution-tutorial)\n",
    "* [Categorical Variables](http://seaborn.pydata.org/tutorial/categorical.html#categorical-tutorial)"
   ]
  }
 ],
 "metadata": {
  "celltoolbar": "Slideshow",
  "kernelspec": {
   "display_name": "Julia 0.6.2",
   "language": "julia",
   "name": "julia-0.6"
  },
  "language_info": {
   "file_extension": ".jl",
   "mimetype": "application/julia",
   "name": "julia",
   "version": "0.6.2"
  }
 },
 "nbformat": 4,
 "nbformat_minor": 2
}
